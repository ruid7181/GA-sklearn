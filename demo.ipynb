{
 "cells": [
  {
   "cell_type": "code",
   "id": "initial_id",
   "metadata": {
    "collapsed": true
   },
   "source": [
    "import pandas as pd\n",
    "from sklearn.model_selection import train_test_split\n",
    "from sklearn.metrics import r2_score, mean_absolute_error\n",
    "\n",
    "from model.estimator import GARegressor"
   ],
   "outputs": [],
   "execution_count": null
  },
  {
   "metadata": {},
   "cell_type": "markdown",
   "source": "# Basic Usage",
   "id": "1193325103219f33"
  },
  {
   "metadata": {},
   "cell_type": "markdown",
   "source": "## Step 1. Load the dataset",
   "id": "cfe24c73533712a3"
  },
  {
   "metadata": {},
   "cell_type": "code",
   "source": [
    "# Specify column names for the dataset. Here is the poverty dataset.\n",
    "tab_x = ['ep_unem', 'ep_pci', 'ep_nohs', 'ep_sngp',\n",
    "         'ep_lime', 'ep_crow', 'ep_nove', 'rent_1', 'rntov30p_1',\n",
    "         'ep_unin', 'ep_minrty', 'ep_age65', 'ep_age17', 'ep_disabl']\n",
    "tab_l = ['latitude', 'longitude']\n",
    "tab_y = ['ep_pov']\n",
    "\n",
    "# Load the tabular dataset.\n",
    "df = pd.read_csv(r'./data/tabular_datasets/us_sdoh_2014.csv')\n",
    "X, y = df[tab_x + tab_l], df[tab_y]\n",
    "X_train, X_test, y_train, y_test = train_test_split(X, y, test_size=0.3, random_state=42)"
   ],
   "id": "dba912dcbbb0b6d3",
   "outputs": [],
   "execution_count": null
  },
  {
   "metadata": {},
   "cell_type": "markdown",
   "source": "## Step 2. sklearn-style training",
   "id": "704b7389fb43146c"
  },
  {
   "metadata": {},
   "cell_type": "code",
   "source": [
    "# Specify the hyperparameters for the GA model.\n",
    "# Check the docstring of`GeoAggregator` class for details.\n",
    "params = {\n",
    "    'x_cols': tab_x,\n",
    "    'spa_cols': tab_l,\n",
    "    'y_cols': tab_y,\n",
    "    'attn_variant': 'MCPA',\n",
    "    'model_variant': 'small',\n",
    "    'd_model': 32,\n",
    "    # 'n_attn_layer': 1,\n",
    "    # 'idu_points': 4,\n",
    "    # 'seq_len': 128,\n",
    "    'attn_dropout': 0.2,\n",
    "    'attn_bias_factor': None,\n",
    "    'reg_lin_dims': [16, 1],\n",
    "    'epochs': 20,\n",
    "    'lr': 5e-3,\n",
    "    'batch_size': 8,\n",
    "    'verbose': True   # show model summary\n",
    "}\n",
    "\n",
    "# Initialize the GA model.\n",
    "model = GARegressor(\n",
    "    **params\n",
    ")\n",
    "\n",
    "# Train the GA model (need to pass co-variates, spatial coordinates and target variable).\n",
    "model.fit(X=X_train[tab_x], l=X_train[tab_l], y=y_train)"
   ],
   "id": "793cb9b7e010ae42",
   "outputs": [],
   "execution_count": null
  },
  {
   "metadata": {},
   "cell_type": "markdown",
   "source": "## Step 3. sklearn-style testing",
   "id": "2b8d822cb21e938d"
  },
  {
   "metadata": {},
   "cell_type": "code",
   "source": [
    "# Predict on the GA test dataset.\n",
    "y_pred = model.predict(X=X_test[tab_x], l=X_test[tab_l])\n",
    "\n",
    "print(f'R-sq = {r2_score(y_true=y_test[tab_y], y_pred=y_pred)}')\n",
    "print(f'MAE = {mean_absolute_error(y_true=y_test[tab_y], y_pred=y_pred)}')"
   ],
   "id": "51ccc89eb672aba4",
   "outputs": [],
   "execution_count": null
  },
  {
   "metadata": {},
   "cell_type": "markdown",
   "source": "# Hyperparameter Tuning [optional]",
   "id": "39e6e943b51595d6"
  },
  {
   "metadata": {},
   "cell_type": "code",
   "source": [
    "import time\n",
    "import numpy as np\n",
    "import optuna\n",
    "\n",
    "from optuna.samplers import TPESampler\n",
    "from sklearn.model_selection import KFold"
   ],
   "id": "cade3921ff60927d",
   "outputs": [],
   "execution_count": null
  },
  {
   "metadata": {},
   "cell_type": "code",
   "source": [
    "def objective(trial, n_split=5):\n",
    "    params = {\n",
    "        'x_cols': tab_x,\n",
    "        'spa_cols': tab_l,\n",
    "        'y_cols': tab_y,\n",
    "        'attn_variant': 'MCPA',\n",
    "        'd_model': trial.suggest_categorical('d_model', [32, 64, 80]),\n",
    "        'n_attn_layer': trial.suggest_int('n_attn_layer', 1, 3),\n",
    "        'idu_points': trial.suggest_int('idu_points', 2, 8),\n",
    "        'seq_len': trial.suggest_categorical('seq_len', [64, 81, 100, 144, 256, 400]),\n",
    "        'attn_dropout': trial.suggest_float('attn_dropout', 0.01, 0.5),\n",
    "        'attn_bias_factor': None,\n",
    "        'reg_lin_dims': trial.suggest_categorical('reg_lin_dims', [[1], [4, 1], [16, 1]]),\n",
    "        'epochs': trial.suggest_int('epochs', 3, 30),\n",
    "        'lr': 5e-3,\n",
    "        'batch_size': 8,\n",
    "    }\n",
    "    loss = np.empty(n_split)\n",
    "    kf = KFold(n_splits=n_split, shuffle=True)\n",
    "\n",
    "    for idx, (trn_idx, val_idx) in enumerate(kf.split(X_train, y_train)):\n",
    "        trn_X, trn_y = X_train.iloc[trn_idx], y_train.iloc[trn_idx]\n",
    "        val_X, val_y = X_train.iloc[val_idx], y_train.iloc[val_idx]\n",
    "\n",
    "        model = GARegressor(**params)\n",
    "        model.fit(\n",
    "            X=trn_X[tab_x],\n",
    "            l=trn_X[tab_l],\n",
    "            y=trn_y\n",
    "        )\n",
    "        y_pred = model.predict(X=val_X[tab_x], l=val_X[tab_l])\n",
    "        loss[idx] = mean_absolute_error(y_true=val_y, y_pred=y_pred)\n",
    "\n",
    "    return np.mean(loss)"
   ],
   "id": "aac4b45dff1c3443",
   "outputs": [],
   "execution_count": null
  },
  {
   "metadata": {},
   "cell_type": "code",
   "source": [
    "sampler = TPESampler()\n",
    "start_time = time.time()\n",
    "study = optuna.create_study(\n",
    "    direction='minimize',\n",
    "    study_name='ga-hp!',\n",
    "    sampler=sampler\n",
    ")\n",
    "study.optimize(objective, n_trials=300)\n",
    "end_time = time.time()\n",
    "\n",
    "best_params = study.best_params\n",
    "best_value = study.best_value\n",
    "best_trial = study.best_trial\n",
    "\n",
    "print('Elapsed time = {:.4f}s'.format(end_time - start_time))\n",
    "print('Best hyperparameters: ', best_params)\n",
    "print('Best results: ', best_value)\n",
    "print('Best trial: ', best_trial)"
   ],
   "id": "c41da54998653e79",
   "outputs": [],
   "execution_count": null
  }
 ],
 "metadata": {
  "kernelspec": {
   "display_name": "Python 3",
   "language": "python",
   "name": "python3"
  },
  "language_info": {
   "codemirror_mode": {
    "name": "ipython",
    "version": 2
   },
   "file_extension": ".py",
   "mimetype": "text/x-python",
   "name": "python",
   "nbconvert_exporter": "python",
   "pygments_lexer": "ipython2",
   "version": "2.7.6"
  }
 },
 "nbformat": 4,
 "nbformat_minor": 5
}
