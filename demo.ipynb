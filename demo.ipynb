{
 "cells": [
  {
   "metadata": {},
   "cell_type": "markdown",
   "source": "",
   "id": "1a56b1daeb733033"
  },
  {
   "metadata": {},
   "cell_type": "markdown",
   "source": [
    "# <center> Use GA-sklearn On Your Own Dataset: A DEMO </center>\n",
    "\n",
    "* Paper: Deng, R., Li, Z., & Wang, M. (2025). GeoAggregator: An Efficient Transformer Model for Geo-Spatial Tabular Data. Proceedings of the AAAI Conference on Artificial Intelligence, 39(11), 11572-11580. https://doi.org/10.1609/aaai.v39i11.33259\n",
    "\n",
    "\n",
    "* Github: https://github.com/ruid7181/GA-sklearn\n",
    "\n",
    "\n",
    "If you have any questions, feel free to contact Rui Deng (rui.deng@glasgow.ac.uk)."
   ],
   "id": "124c555fb8a395"
  },
  {
   "cell_type": "code",
   "id": "initial_id",
   "metadata": {
    "collapsed": true
   },
   "source": [
    "import pandas as pd\n",
    "from sklearn.model_selection import train_test_split\n",
    "from sklearn.metrics import r2_score, mean_absolute_error\n",
    "\n",
    "from model.estimator import GARegressor"
   ],
   "outputs": [],
   "execution_count": null
  },
  {
   "cell_type": "markdown",
   "id": "1193325103219f33",
   "metadata": {},
   "source": [
    "# Basic Usage\n",
    "\n",
    "![](https://drive.google.com/uc?export=view&id=1i2tL84D36czYSycC9PfZsfDfYu7PEqFn)"
   ]
  },
  {
   "cell_type": "markdown",
   "id": "cfe24c73533712a3",
   "metadata": {},
   "source": [
    "## Step 1. Load the dataset\n",
    "\n",
    "The data used in this training is a classic Seattle house price dataset. This dataset is popularly used to demonstrate methodological developments in spatial modeling.\n",
    "\n",
    "Key Variables:\n",
    "* sqft_living: interior living space of the house in square feet.\n",
    "* sqft_lot: total area of the land/plot the house sits on, measured in square feet.\n",
    "* bathrooms: number of bathrooms in the house.\n",
    "* grade:An overall grade given to the house by the King County grading system;\n",
    "* condition: A rating of the house's overall condition.This is typically on a scale from 1 (poor) to 5 (very good).\n",
    "* waterfront: A binary variable (0 or 1) indicating whether the house has a view of a waterfront. 1 means it is on the waterfront, 0 means it is not.\n",
    "* view: A rating (often 0-4) of the quality of the view from the property. A higher number indicates a better view.\n",
    "* age: The age of the house in years, calculated from the year it was built.\n",
    "* UTM_X: The geographic east-west coordinate (easting) of the house, based on the Universal Transverse Mercator (UTM) projection system.\n",
    "* UTM_Y: The geographic north-south coordinate (northing) of the house, based on the UTM system.\n",
    "\n",
    "\\\\\n",
    "\n",
    "We are using a smaller subset of 1000 samples for demonstration purposes due to time constraints.\n",
    "\n",
    "For full version of the data, results & comparison with other models, please refer to the GeoAggregator paper."
   ]
  },
  {
   "cell_type": "code",
   "id": "dba912dcbbb0b6d3",
   "metadata": {},
   "source": [
    "# ### Specify column names of the dataset. Here we have the Housing dataset.\n",
    "tab_x = ['bathrooms', 'sqft_living', 'sqft_lot',\n",
    "         'grade', 'condition', 'waterfront',\n",
    "         'view', 'age']\n",
    "tab_l = ['UTM_X', 'UTM_Y']\n",
    "tab_y = ['log_price']\n",
    "\n",
    "# # ### Load the tabular dataset.\n",
    "df = pd.read_csv(r'./data/tabular_datasets/cupum-demo.csv')\n",
    "df[tab_l] = df[tab_l].apply(\n",
    "    lambda x: (x - x.min()) / (x.max() - x.min() + 1e-8)\n",
    ")\n",
    "# df[tab_y] = df[tab_y].apply(\n",
    "#     lambda x: 10 ** x / 1e5\n",
    "# )   # Only the housing dataset needs this step.\n",
    "\n",
    "# ### Train-Test split.\n",
    "X, y = df[tab_x + tab_l], df[tab_y]\n",
    "X_train, X_test, y_train, y_test = train_test_split(X, y, test_size=0.2, random_state=1)"
   ],
   "outputs": [],
   "execution_count": null
  },
  {
   "cell_type": "markdown",
   "id": "704b7389fb43146c",
   "metadata": {},
   "source": [
    "## Step 2. sklearn-style training"
   ]
  },
  {
   "cell_type": "code",
   "id": "793cb9b7e010ae42",
   "metadata": {},
   "source": [
    "# ### Specify the hyperparameters for the GA model.\n",
    "# Check the docstring of`GeoAggregator` class for details.\n",
    "params = {\n",
    "    'x_cols': tab_x,\n",
    "    'spa_cols': tab_l,\n",
    "    'y_cols': tab_y,\n",
    "    'attn_variant': 'MCPA',\n",
    "    # 'model_variant': 'mini',\n",
    "    'd_model': 32,\n",
    "    'n_attn_layer': 1,\n",
    "    'idu_points': 1,\n",
    "    'seq_len': 144,\n",
    "    'attn_dropout': 0.05,\n",
    "    'attn_bias_factor': None,\n",
    "    'reg_lin_dims': [16, 1],\n",
    "    'epochs': 27,\n",
    "    'lr': 5e-3,\n",
    "    'batch_size': 8,\n",
    "    'verbose': True   # show model summary\n",
    "}\n",
    "\n",
    "# ### Initialize the GA model.\n",
    "model = GARegressor(\n",
    "    **params\n",
    ")\n",
    "\n",
    "# ### Train the GA model.\n",
    "# Need to pass co-variates, spatial coordinates and target variable.\n",
    "model.fit(X=X_train[tab_x], l=X_train[tab_l], y=y_train)"
   ],
   "outputs": [],
   "execution_count": null
  },
  {
   "cell_type": "markdown",
   "id": "2b8d822cb21e938d",
   "metadata": {},
   "source": [
    "## Step 3. sklearn-style testing"
   ]
  },
  {
   "cell_type": "code",
   "id": "51ccc89eb672aba4",
   "metadata": {},
   "source": [
    "# ### Predict on the test dataset.\n",
    "y_pred, y_pred_std = model.predict(X=X_test[tab_x], l=X_test[tab_l], n_estimate=8, get_std=True)\n",
    "\n",
    "print(f'R-sq = {r2_score(y_true=y_test[tab_y], y_pred=y_pred)}')\n",
    "print(f'MAE = {mean_absolute_error(y_true=y_test[tab_y], y_pred=y_pred)}')"
   ],
   "outputs": [],
   "execution_count": null
  },
  {
   "cell_type": "markdown",
   "id": "39e6e943b51595d6",
   "metadata": {},
   "source": [
    "# Hyperparameter Tuning [optional]"
   ]
  },
  {
   "cell_type": "code",
   "id": "cade3921ff60927d",
   "metadata": {},
   "source": [
    "import time\n",
    "import numpy as np\n",
    "import optuna\n",
    "\n",
    "from optuna.samplers import TPESampler\n",
    "from sklearn.model_selection import KFold"
   ],
   "outputs": [],
   "execution_count": null
  },
  {
   "cell_type": "code",
   "id": "aac4b45dff1c3443",
   "metadata": {},
   "source": [
    "def objective(trial, n_split=4):\n",
    "    params = {\n",
    "        'x_cols': tab_x,\n",
    "        'spa_cols': tab_l,\n",
    "        'y_cols': tab_y,\n",
    "        'attn_variant': 'MCPA',\n",
    "        'd_model': trial.suggest_categorical('d_model', [32, 64]),\n",
    "        'n_attn_layer': 1,\n",
    "        'idu_points': 1,\n",
    "        'seq_len': trial.suggest_categorical('seq_len', [100, 128, 144]),\n",
    "        'attn_dropout': trial.suggest_categorical('dropout', [0.05, 0.1, 0.2]),\n",
    "        'attn_bias_factor': None,\n",
    "        'reg_lin_dims': [16, 1],\n",
    "        'epochs': trial.suggest_int('epochs', 15, 21),\n",
    "        'lr': 5e-3,\n",
    "        'batch_size': 8,\n",
    "        'verbose': False,\n",
    "    }\n",
    "    loss = np.empty(n_split)\n",
    "    kf = KFold(n_splits=n_split, shuffle=True)\n",
    "\n",
    "    for idx, (trn_idx, val_idx) in enumerate(kf.split(X_train, y_train)):\n",
    "        trn_X, trn_y = X_train.iloc[trn_idx], y_train.iloc[trn_idx]\n",
    "        val_X, val_y = X_train.iloc[val_idx], y_train.iloc[val_idx]\n",
    "\n",
    "        model = GARegressor(**params)\n",
    "        model.fit(\n",
    "            X=trn_X[tab_x],\n",
    "            l=trn_X[tab_l],\n",
    "            y=trn_y\n",
    "        )\n",
    "        y_pred = model.predict(X=val_X[tab_x], l=val_X[tab_l])\n",
    "        loss[idx] = mean_absolute_error(y_true=val_y, y_pred=y_pred)\n",
    "\n",
    "    return np.mean(loss)"
   ],
   "outputs": [],
   "execution_count": null
  },
  {
   "cell_type": "code",
   "id": "c41da54998653e79",
   "metadata": {},
   "source": [
    "sampler = TPESampler()\n",
    "start_time = time.time()\n",
    "study = optuna.create_study(\n",
    "    direction='minimize',\n",
    "    study_name='ga-hp!',\n",
    "    sampler=sampler\n",
    ")\n",
    "study.optimize(objective, timeout=7200)\n",
    "end_time = time.time()\n",
    "\n",
    "best_params = study.best_params\n",
    "best_value = study.best_value\n",
    "best_trial = study.best_trial\n",
    "\n",
    "print('Elapsed time = {:.4f}s'.format(end_time - start_time))\n",
    "print('Best hyperparameters: ', best_params)\n",
    "print('Best results: ', best_value)\n",
    "print('Best trial: ', best_trial)"
   ],
   "outputs": [],
   "execution_count": null
  },
  {
   "metadata": {},
   "cell_type": "markdown",
   "source": "# Model Explanation (GeoShapley) [Optional]",
   "id": "325fd285c31d794"
  },
  {
   "metadata": {},
   "cell_type": "code",
   "source": "from geoshapley import GeoShapleyExplainer",
   "id": "50c878ef88dbd89e",
   "outputs": [],
   "execution_count": null
  },
  {
   "metadata": {},
   "cell_type": "code",
   "source": [
    "# ### Prepare the data to be explained and the background data\n",
    "X = X.sample(100)\n",
    "background = X.sample(30).values\n",
    "\n",
    "# ### Get the predictor function for the GeoShapley Explainer\n",
    "predictor = model.get_shap_predictor(\n",
    "    X=X[tab_x],\n",
    "    l=X[tab_l],\n",
    "    n_background=30\n",
    ")\n",
    "\n",
    "# ### Initiate the Explainer\n",
    "explainer = GeoShapleyExplainer(\n",
    "    predict_f=predictor,\n",
    "    background=background\n",
    ")\n",
    "\n",
    "# ### Explain\n",
    "result = explainer.explain(X_geo=X, n_jobs=1)"
   ],
   "id": "202de6dd98decd6d",
   "outputs": [],
   "execution_count": null
  },
  {
   "metadata": {},
   "cell_type": "code",
   "source": "",
   "id": "8427291f04188067",
   "outputs": [],
   "execution_count": null
  }
 ],
 "metadata": {
  "kernelspec": {
   "display_name": "spa",
   "language": "python",
   "name": "python3"
  },
  "language_info": {
   "codemirror_mode": {
    "name": "ipython",
    "version": 3
   },
   "file_extension": ".py",
   "mimetype": "text/x-python",
   "name": "python",
   "nbconvert_exporter": "python",
   "pygments_lexer": "ipython3",
   "version": "3.9.18"
  }
 },
 "nbformat": 4,
 "nbformat_minor": 5
}
